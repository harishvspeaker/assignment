{
 "cells": [
  {
   "cell_type": "code",
   "execution_count": 1,
   "id": "15efd6c3-2c35-4fb1-a745-a1ead30729ad",
   "metadata": {},
   "outputs": [],
   "source": [
    "# tuples are a kind of data structurez which is used to store mutiple elements in a single variable , yes tuples are immutable\n"
   ]
  },
  {
   "cell_type": "code",
   "execution_count": 2,
   "id": "bb3d1d74-c195-4737-9889-47f57fba6596",
   "metadata": {},
   "outputs": [],
   "source": [
    "# thetwo inbuilt function of tuples are count and index \n"
   ]
  },
  {
   "cell_type": "code",
   "execution_count": 3,
   "id": "6d53cea8-b80e-42dd-bfac-96f835b7c752",
   "metadata": {},
   "outputs": [
    {
     "data": {
      "text/plain": [
       "3"
      ]
     },
     "execution_count": 3,
     "metadata": {},
     "output_type": "execute_result"
    }
   ],
   "source": [
    "#count in used to find the number of occurances of a  given element \n",
    "\n",
    "t1=(1,2,3,2,2,3,1,23,3)\n",
    "t1.count(2)"
   ]
  },
  {
   "cell_type": "code",
   "execution_count": 6,
   "id": "0e77d652-8927-4081-902e-570ba1b38410",
   "metadata": {},
   "outputs": [
    {
     "data": {
      "text/plain": [
       "7"
      ]
     },
     "execution_count": 6,
     "metadata": {},
     "output_type": "execute_result"
    }
   ],
   "source": [
    "t1.index(23)"
   ]
  },
  {
   "cell_type": "code",
   "execution_count": 7,
   "id": "fff63174-92f7-486f-b676-7fdd113f051d",
   "metadata": {},
   "outputs": [],
   "source": [
    "#it has only two inbuilt functions as they are immutable and no function can be created to alter them , but there exist two functions to access the elements without \n",
    "#mutating it "
   ]
  },
  {
   "cell_type": "code",
   "execution_count": 8,
   "id": "88a86194-ce20-4355-b4ad-63ad8b30caf7",
   "metadata": {},
   "outputs": [],
   "source": [
    "# the datatype in python which does not allow duplicate elements are sets "
   ]
  },
  {
   "cell_type": "code",
   "execution_count": 9,
   "id": "e2bedf48-22f4-4a3c-ac95-51bb83e07737",
   "metadata": {},
   "outputs": [],
   "source": [
    "List = [1, 1, 1, 2, 1, 3, 1, 4, 2, 1, 2, 2, 2, 3, 2, 4, 3, 1, 3, 2, 3, 3, 3, 4, 4, 1, 4, 2, 4, 3, 4, 4]"
   ]
  },
  {
   "cell_type": "code",
   "execution_count": 23,
   "id": "65662986-a019-4f5e-9226-58e960e6be90",
   "metadata": {},
   "outputs": [
    {
     "data": {
      "text/plain": [
       "[1,\n",
       " 1,\n",
       " 1,\n",
       " 2,\n",
       " 1,\n",
       " 3,\n",
       " 1,\n",
       " 4,\n",
       " 2,\n",
       " 1,\n",
       " 2,\n",
       " 2,\n",
       " 2,\n",
       " 3,\n",
       " 2,\n",
       " 4,\n",
       " 3,\n",
       " 1,\n",
       " 3,\n",
       " 2,\n",
       " 3,\n",
       " 3,\n",
       " 3,\n",
       " 4,\n",
       " 4,\n",
       " 1,\n",
       " 4,\n",
       " 2,\n",
       " 4,\n",
       " 3,\n",
       " 4,\n",
       " 4]"
      ]
     },
     "execution_count": 23,
     "metadata": {},
     "output_type": "execute_result"
    }
   ],
   "source": [
    "List\n"
   ]
  },
  {
   "cell_type": "code",
   "execution_count": 24,
   "id": "3c633272-85b2-4c64-b9d2-089227297404",
   "metadata": {},
   "outputs": [],
   "source": [
    "set1.update(List)"
   ]
  },
  {
   "cell_type": "code",
   "execution_count": 25,
   "id": "059b128b-3837-4e43-adbc-c82a23feb908",
   "metadata": {},
   "outputs": [
    {
     "data": {
      "text/plain": [
       "{1, 2, 3, 4, list}"
      ]
     },
     "execution_count": 25,
     "metadata": {},
     "output_type": "execute_result"
    }
   ],
   "source": [
    "set1"
   ]
  },
  {
   "cell_type": "code",
   "execution_count": 26,
   "id": "004b481c-4a73-4bdb-a011-6cdc63c30a7a",
   "metadata": {},
   "outputs": [],
   "source": [
    "#update and union "
   ]
  },
  {
   "cell_type": "code",
   "execution_count": 27,
   "id": "76369946-c825-4127-9528-e8546ac9417f",
   "metadata": {},
   "outputs": [],
   "source": [
    "#update adds the missing elements into the same set \n",
    "#were as union also does the same but it creates a new set datatype "
   ]
  },
  {
   "cell_type": "code",
   "execution_count": 28,
   "id": "6d1ceb11-23c1-43d6-b009-df8d289f64d4",
   "metadata": {},
   "outputs": [],
   "source": [
    "set1={1,2,3,4}\n",
    "set2={4,3,5,6,7}\n",
    "set1.update(set2)"
   ]
  },
  {
   "cell_type": "code",
   "execution_count": 29,
   "id": "3a7d2d8d-ec66-4b7c-b2f9-2f036b7b3780",
   "metadata": {},
   "outputs": [
    {
     "data": {
      "text/plain": [
       "{1, 2, 3, 4, 5, 6, 7}"
      ]
     },
     "execution_count": 29,
     "metadata": {},
     "output_type": "execute_result"
    }
   ],
   "source": [
    "set1\n"
   ]
  },
  {
   "cell_type": "code",
   "execution_count": 30,
   "id": "1be3e70d-22ad-4f43-bbe8-e16943dab0e2",
   "metadata": {},
   "outputs": [
    {
     "data": {
      "text/plain": [
       "{1, 2, 3, 4, 5, 6, 7, list}"
      ]
     },
     "execution_count": 30,
     "metadata": {},
     "output_type": "execute_result"
    }
   ],
   "source": [
    "set1={1,2,3,4}\n",
    "set2={4,3,5,6,7}\n",
    "set.union(set2)"
   ]
  },
  {
   "cell_type": "code",
   "execution_count": 31,
   "id": "f584ac77-849d-4cec-b6a4-33c6cfee18ab",
   "metadata": {},
   "outputs": [],
   "source": [
    "# dictionary in python is a data type which is used to store data in key value pairs \n",
    "#dictionaries are ordered the sequence of the elements does not change \n"
   ]
  },
  {
   "cell_type": "code",
   "execution_count": 32,
   "id": "ea44277f-a18f-4957-b8d3-ce45b7918580",
   "metadata": {},
   "outputs": [],
   "source": [
    "dic1={\"name\":\"harish\",\"age\":90,\"salary\":16382}"
   ]
  },
  {
   "cell_type": "code",
   "execution_count": 33,
   "id": "9415fdbd-254b-4aa0-8f3f-6243ca2ca3a2",
   "metadata": {},
   "outputs": [],
   "source": [
    "#yes a nested dictionary can be directly created \n"
   ]
  },
  {
   "cell_type": "code",
   "execution_count": 35,
   "id": "082a3649-f299-4fce-aa04-1dd4db369b0b",
   "metadata": {},
   "outputs": [],
   "source": [
    "dict2={\"name\":\"harish\",\"age\":90,\"salary\":16382, \"bodystats\":{\"height\":8.9,\"weight\":98}}"
   ]
  },
  {
   "cell_type": "code",
   "execution_count": 36,
   "id": "8e5cb604-38dc-413a-9f17-7546eb307f33",
   "metadata": {},
   "outputs": [
    {
     "data": {
      "text/plain": [
       "{'name': 'harish',\n",
       " 'age': 90,\n",
       " 'salary': 16382,\n",
       " 'bodystats': {'height': 8.9, 'weight': 98}}"
      ]
     },
     "execution_count": 36,
     "metadata": {},
     "output_type": "execute_result"
    }
   ],
   "source": [
    "dict2"
   ]
  },
  {
   "cell_type": "code",
   "execution_count": 37,
   "id": "0eeff460-cc4e-4946-a736-24f02ffcacb2",
   "metadata": {},
   "outputs": [],
   "source": [
    "#setdefault is a function which is returns the key if it already exists in a dictionary else adds it into the dictionary "
   ]
  },
  {
   "cell_type": "code",
   "execution_count": 38,
   "id": "69b7af98-7176-49c4-8447-d396fd3b6243",
   "metadata": {},
   "outputs": [],
   "source": [
    "dict1 = {'language' : 'Python', 'course': 'Data Science Masters'}"
   ]
  },
  {
   "cell_type": "code",
   "execution_count": 41,
   "id": "acfd66d4-2fd4-47ba-bb31-717bef51bd66",
   "metadata": {},
   "outputs": [
    {
     "data": {
      "text/plain": [
       "'Python'"
      ]
     },
     "execution_count": 41,
     "metadata": {},
     "output_type": "execute_result"
    }
   ],
   "source": [
    "dict1.setdefault(\"language\",\"data science\")"
   ]
  },
  {
   "cell_type": "code",
   "execution_count": 42,
   "id": "d8cdbf16-f796-48e0-9e2d-d97d4b9d1600",
   "metadata": {},
   "outputs": [
    {
     "data": {
      "text/plain": [
       "{'language': 'Python', 'course': 'Data Science Masters'}"
      ]
     },
     "execution_count": 42,
     "metadata": {},
     "output_type": "execute_result"
    }
   ],
   "source": [
    "dict1"
   ]
  },
  {
   "cell_type": "code",
   "execution_count": 45,
   "id": "70b19951-190c-482a-baf3-11790878997d",
   "metadata": {},
   "outputs": [
    {
     "data": {
      "text/plain": [
       "'machine learning '"
      ]
     },
     "execution_count": 45,
     "metadata": {},
     "output_type": "execute_result"
    }
   ],
   "source": [
    "dict1.setdefault(\"language2\",\"machine learning \")"
   ]
  },
  {
   "cell_type": "code",
   "execution_count": 46,
   "id": "37441360-aab3-4a72-8d8a-e90e0a107c0a",
   "metadata": {},
   "outputs": [
    {
     "data": {
      "text/plain": [
       "{'language': 'Python',\n",
       " 'course': 'Data Science Masters',\n",
       " 'language2': 'machine learning '}"
      ]
     },
     "execution_count": 46,
     "metadata": {},
     "output_type": "execute_result"
    }
   ],
   "source": [
    "dict1\n"
   ]
  },
  {
   "cell_type": "code",
   "execution_count": 47,
   "id": "ff980d07-a2af-482e-a509-cb71ddb81591",
   "metadata": {},
   "outputs": [],
   "source": [
    "#the three views are keys(returns the key values of the given dictionary ) value(holds the values of given dictionary) itrm(holds bothe the key and value of the given dictionary)\n"
   ]
  },
  {
   "cell_type": "code",
   "execution_count": 48,
   "id": "58d3ab9c-a2ba-4f7a-8493-7109ad38da73",
   "metadata": {},
   "outputs": [
    {
     "data": {
      "text/plain": [
       "{'language': 'Python',\n",
       " 'course': 'Data Science Masters',\n",
       " 'language2': 'machine learning '}"
      ]
     },
     "execution_count": 48,
     "metadata": {},
     "output_type": "execute_result"
    }
   ],
   "source": [
    "dict1"
   ]
  },
  {
   "cell_type": "code",
   "execution_count": 49,
   "id": "25610938-61fa-41e2-bc0c-7a0ee9d641ae",
   "metadata": {},
   "outputs": [
    {
     "name": "stdout",
     "output_type": "stream",
     "text": [
      "dict_keys(['language', 'course', 'language2'])\n"
     ]
    }
   ],
   "source": [
    "print(dict1.keys())"
   ]
  },
  {
   "cell_type": "code",
   "execution_count": 53,
   "id": "c01f5839-c2dd-403f-8fd2-3bf505af5fda",
   "metadata": {},
   "outputs": [
    {
     "name": "stdout",
     "output_type": "stream",
     "text": [
      "dict_values(['Python', 'Data Science Masters', 'machine learning '])\n"
     ]
    }
   ],
   "source": [
    "print(dict1.values())"
   ]
  },
  {
   "cell_type": "code",
   "execution_count": 54,
   "id": "fff7e9a2-a611-4f7a-9eb8-bd947054e4e3",
   "metadata": {},
   "outputs": [
    {
     "name": "stdout",
     "output_type": "stream",
     "text": [
      "dict_items([('language', 'Python'), ('course', 'Data Science Masters'), ('language2', 'machine learning ')])\n"
     ]
    }
   ],
   "source": [
    "print(dict1.items())"
   ]
  },
  {
   "cell_type": "code",
   "execution_count": null,
   "id": "1410dae7-d77e-41c0-b0c1-84e87e4254a1",
   "metadata": {},
   "outputs": [],
   "source": []
  }
 ],
 "metadata": {
  "kernelspec": {
   "display_name": "Python 3 (ipykernel)",
   "language": "python",
   "name": "python3"
  },
  "language_info": {
   "codemirror_mode": {
    "name": "ipython",
    "version": 3
   },
   "file_extension": ".py",
   "mimetype": "text/x-python",
   "name": "python",
   "nbconvert_exporter": "python",
   "pygments_lexer": "ipython3",
   "version": "3.10.8"
  }
 },
 "nbformat": 4,
 "nbformat_minor": 5
}
