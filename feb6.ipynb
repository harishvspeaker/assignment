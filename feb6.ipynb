{
 "cells": [
  {
   "cell_type": "code",
   "execution_count": 3,
   "id": "2f128fc0-aa02-4281-8433-acd2f8845056",
   "metadata": {},
   "outputs": [],
   "source": [
    "list1 = [1,2,3,4, [44,55,66, True], False, (34,56,78,89,34), {1,2,3,3,2,1}, {1:34, \"key2\": [55, 67, 78, 89], 4: (45,\n",
    "22, 61, 34)}, [56, 'data science'], 'Machine Learning']\n",
    "\n",
    "\n",
    "def func(list1):\n",
    "    for i in list1:\n",
    "        if type(i)==int:\n",
    "            list2=list2.append(i)"
   ]
  },
  {
   "cell_type": "code",
   "execution_count": 8,
   "id": "3acf616b-b658-4cfe-a8c3-c36eb4bab75f",
   "metadata": {},
   "outputs": [
    {
     "name": "stdout",
     "output_type": "stream",
     "text": [
      "List [1, 2, 3, 4, [44, 55, 66, True], False, (34, 56, 78, 89, 34), {1, 2, 3}, {1: 34, 'key2': [55, 67, 78, 89], 4: (45, 22, 61, 34)}, [56, 'data science'], 'Machine Learning']\n"
     ]
    }
   ],
   "source": [
    "def flat(lis):\n",
    "    flatList = []\n",
    "    # Iterate with outer list\n",
    "    for element in lis:\n",
    "        if type(element) is list:\n",
    "            \n",
    "            for item in element:\n",
    "                flatList.append(item)\n",
    "        else:\n",
    "            flatList.append(element)\n",
    "    return flatList\n",
    " \n",
    "lis = [1,2,3,4, [44,55,66, True], False, (34,56,78,89,34), {1,2,3,3,2,1}, {1:34, \"key2\": [55, 67, 78, 89], 4: (45,\n",
    "22, 61, 34)}, [56, 'data science'], 'Machine Learning']\n",
    "print('List', lis)\n"
   ]
  },
  {
   "cell_type": "code",
   "execution_count": 22,
   "id": "7124d4b0-d3d9-4bc5-ad87-53c0d6575186",
   "metadata": {},
   "outputs": [
    {
     "ename": "IndentationError",
     "evalue": "unexpected indent (562262092.py, line 12)",
     "output_type": "error",
     "traceback": [
      "\u001b[0;36m  Cell \u001b[0;32mIn[22], line 12\u001b[0;36m\u001b[0m\n\u001b[0;31m    for i in encrypt:\u001b[0m\n\u001b[0m    ^\u001b[0m\n\u001b[0;31mIndentationError\u001b[0m\u001b[0;31m:\u001b[0m unexpected indent\n"
     ]
    }
   ],
   "source": [
    "word  = \"I want to become a Data Scientist.\"\n",
    "encrypt=word.lower()\n",
    "\n",
    "dict = {\"a\": \"z\", \"b\": \"y\",\n",
    "        \"c\": \"x\", \n",
    "        \" \": \"$\"}\n",
    " \n",
    "\n",
    "\n",
    " \n",
    "\n",
    " for i in encrypt:\n",
    "    num = num.replace(i, dict[i])\n",
    " \n",
    "\n",
    " print(f\"{num}aca\")"
   ]
  },
  {
   "cell_type": "code",
   "execution_count": null,
   "id": "e285c9d9-65bf-49ac-a7ef-71f4902041b9",
   "metadata": {},
   "outputs": [],
   "source": []
  }
 ],
 "metadata": {
  "kernelspec": {
   "display_name": "Python 3 (ipykernel)",
   "language": "python",
   "name": "python3"
  },
  "language_info": {
   "codemirror_mode": {
    "name": "ipython",
    "version": 3
   },
   "file_extension": ".py",
   "mimetype": "text/x-python",
   "name": "python",
   "nbconvert_exporter": "python",
   "pygments_lexer": "ipython3",
   "version": "3.10.8"
  }
 },
 "nbformat": 4,
 "nbformat_minor": 5
}
