{
 "cells": [
  {
   "cell_type": "code",
   "execution_count": 41,
   "id": "0f2b4d85-07a4-425e-a0d2-b32d1d14a07c",
   "metadata": {},
   "outputs": [],
   "source": [
    "#since python is a object oriented programming every element is divided into class and objects , class is just a blue print \n",
    "#for object and properties , it makes the code more reliable and efficient in order of understanding and implemending the codes "
   ]
  },
  {
   "cell_type": "code",
   "execution_count": 42,
   "id": "dfdfe4e5-d54b-424a-a940-2e79b6adb3e8",
   "metadata": {},
   "outputs": [],
   "source": [
    "# the four pillars of oops are \n",
    "#inheritance \n",
    "#polymorphism \n",
    "#data abstraction \n",
    "#encapsulation"
   ]
  },
  {
   "cell_type": "code",
   "execution_count": 43,
   "id": "7ed3e342-c4f0-425f-a65e-e240a3befe72",
   "metadata": {},
   "outputs": [],
   "source": [
    "#__init__ function is used to create constructors in a class "
   ]
  },
  {
   "cell_type": "code",
   "execution_count": 44,
   "id": "4a7d9170-6c95-4e98-b1d2-257f8909cf1f",
   "metadata": {},
   "outputs": [],
   "source": [
    "#self keyword is used to reference the objects inside a class "
   ]
  },
  {
   "cell_type": "code",
   "execution_count": 45,
   "id": "13b7bee0-5e05-4a14-a0c4-42a407f35aa2",
   "metadata": {},
   "outputs": [],
   "source": [
    "#inheritence is a property of oops where in one class accquires the property of another class"
   ]
  },
  {
   "cell_type": "code",
   "execution_count": null,
   "id": "e2aa60e6-e5b7-4b76-8653-27399443c7a5",
   "metadata": {},
   "outputs": [],
   "source": []
  }
 ],
 "metadata": {
  "kernelspec": {
   "display_name": "Python 3 (ipykernel)",
   "language": "python",
   "name": "python3"
  },
  "language_info": {
   "codemirror_mode": {
    "name": "ipython",
    "version": 3
   },
   "file_extension": ".py",
   "mimetype": "text/x-python",
   "name": "python",
   "nbconvert_exporter": "python",
   "pygments_lexer": "ipython3",
   "version": "3.10.8"
  }
 },
 "nbformat": 4,
 "nbformat_minor": 5
}
