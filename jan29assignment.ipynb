{
 "cells": [
  {
   "cell_type": "code",
   "execution_count": 1,
   "id": "7b2832e6-bfb5-4e5d-9e09-aa6c5420b7c8",
   "metadata": {},
   "outputs": [],
   "source": [
    "#python was devloped by guido van rossum "
   ]
  },
  {
   "cell_type": "code",
   "execution_count": 2,
   "id": "4e8cb3f1-0d8d-45a8-958c-627f2885549a",
   "metadata": {},
   "outputs": [],
   "source": [
    "#python supports object oriented programming "
   ]
  },
  {
   "cell_type": "code",
   "execution_count": 3,
   "id": "3f1fb423-5410-43fc-9292-130c13acf772",
   "metadata": {},
   "outputs": [],
   "source": [
    "#yes python is case sensitive "
   ]
  },
  {
   "cell_type": "code",
   "execution_count": 4,
   "id": "da70f74a-7cd4-46c3-9da5-35899c22a86d",
   "metadata": {},
   "outputs": [],
   "source": [
    "# the correct extension for a python file is .py "
   ]
  },
  {
   "cell_type": "code",
   "execution_count": 5,
   "id": "624eacea-38fa-4cbb-8e1d-2780b53e646f",
   "metadata": {},
   "outputs": [],
   "source": [
    "#python is an intrepeted language which means that the code is first converted into a bytecode file and then executed by the virtual \n",
    "# machine "
   ]
  },
  {
   "cell_type": "code",
   "execution_count": 6,
   "id": "7f2de6e5-42e4-4ff5-a8a6-cf029d16d1a3",
   "metadata": {},
   "outputs": [],
   "source": [
    "#blocks of code used to define a block in python are \n",
    "# 1- intendation \n",
    "#2- {}\n",
    "#3-[]"
   ]
  },
  {
   "cell_type": "code",
   "execution_count": 7,
   "id": "a0fde160-c2bf-4de7-8281-b91b0297104a",
   "metadata": {},
   "outputs": [],
   "source": [
    "# the character used to give single line comment in python is  # "
   ]
  },
  {
   "cell_type": "code",
   "execution_count": 8,
   "id": "b4c74440-2584-459a-921f-766e7c40fb20",
   "metadata": {},
   "outputs": [],
   "source": [
    "# the functon which gives us the information about the version of compiler which wee are using is python -- ver "
   ]
  },
  {
   "cell_type": "code",
   "execution_count": 9,
   "id": "06a37421-dcea-4182-b41e-799b49adb6af",
   "metadata": {},
   "outputs": [],
   "source": [
    "#python allows us to run an ananomous function during runtime by using the constructior    __init__ "
   ]
  },
  {
   "cell_type": "code",
   "execution_count": 10,
   "id": "f79c13eb-4a65-4880-8df0-737dd30acccf",
   "metadata": {},
   "outputs": [],
   "source": [
    "#pip is a package manager for a python language \n",
    "#few built in function in python are \n",
    "#1- print()\n",
    "#2- min \n",
    "#append \n",
    "#extend "
   ]
  },
  {
   "cell_type": "code",
   "execution_count": 11,
   "id": "16aae6f5-59b7-46a9-bd54-5652e2acf221",
   "metadata": {},
   "outputs": [],
   "source": [
    "#the maximum possible lngth of a identifier in python is 79 charectors "
   ]
  },
  {
   "cell_type": "code",
   "execution_count": null,
   "id": "f4b060fd-d14e-4ce1-88bb-2288d2c1d433",
   "metadata": {},
   "outputs": [],
   "source": [
    "# the benifits of using python is\n",
    " # easy to learn \n",
    "    # most efficient and understanable syntax \n",
    "    # used in almost every branch of tech \n",
    "    "
   ]
  }
 ],
 "metadata": {
  "kernelspec": {
   "display_name": "Python 3 (ipykernel)",
   "language": "python",
   "name": "python3"
  },
  "language_info": {
   "codemirror_mode": {
    "name": "ipython",
    "version": 3
   },
   "file_extension": ".py",
   "mimetype": "text/x-python",
   "name": "python",
   "nbconvert_exporter": "python",
   "pygments_lexer": "ipython3",
   "version": "3.10.8"
  }
 },
 "nbformat": 4,
 "nbformat_minor": 5
}
