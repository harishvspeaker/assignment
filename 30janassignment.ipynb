{
 "cells": [
  {
   "cell_type": "code",
   "execution_count": 4,
   "id": "27289915-514c-4ebb-8296-144af77bf0eb",
   "metadata": {},
   "outputs": [
    {
     "name": "stdin",
     "output_type": "stream",
     "text": [
      "enter your percentage  75\n"
     ]
    },
    {
     "name": "stdout",
     "output_type": "stream",
     "text": [
      "c\n"
     ]
    }
   ],
   "source": [
    "marks = int(input(\"enter your percentage \"))\n",
    "\n",
    "if marks >90 :\n",
    "    print(\"A\")\n",
    "elif marks >80 and marks <=90:\n",
    "    print(\"b\")\n",
    "elif marks >60 and marks <=80:\n",
    "    print(\"c\")\n",
    "elif marks <60:\n",
    "    print(\"D\")"
   ]
  },
  {
   "cell_type": "code",
   "execution_count": 5,
   "id": "b859b10d-7a5e-4ba0-8cdf-0c8635ef0e3a",
   "metadata": {},
   "outputs": [
    {
     "name": "stdin",
     "output_type": "stream",
     "text": [
      "enter the price of the bike  65000\n"
     ]
    },
    {
     "name": "stdout",
     "output_type": "stream",
     "text": [
      "the tax payable by u is 6500.0\n"
     ]
    }
   ],
   "source": [
    "price =int(input(\"enter the price of the bike \"))\n",
    "if price >100000:\n",
    "    print(\"the tax payable by u is\",(price)*0.15)\n",
    "if price <=100000 and price >50000:\n",
    "    print(\"the tax payable by u is\",(price)*0.10)\n",
    "if price <50000:\n",
    "    print(\"the tax payable by u is\",(price)*0.05)\n"
   ]
  },
  {
   "cell_type": "code",
   "execution_count": 7,
   "id": "0ec0909b-057e-48c5-b809-8ca09b25b9fc",
   "metadata": {},
   "outputs": [
    {
     "name": "stdin",
     "output_type": "stream",
     "text": [
      "enter your city  agra\n"
     ]
    }
   ],
   "source": [
    "city = input(\"enter your city \")\n",
    "\n",
    "if city==\"delhi\":\n",
    "    print(\"the monument which u can visit is {} \".format(\"redfort\"))\n",
    "if city==\"agra\":\n",
    "    print(\"the monument which u can visit is {} \".format(\"tajmahalt\"))\n",
    "if city==\"jaipur\":\n",
    "    print(\"the monument which u can visit is {} \".format(\"jalmahal\"))\n"
   ]
  },
  {
   "cell_type": "code",
   "execution_count": 8,
   "id": "e3812060-974f-40f1-af8f-4e52ac1331ce",
   "metadata": {},
   "outputs": [
    {
     "name": "stdout",
     "output_type": "stream",
     "text": [
      "2\n"
     ]
    }
   ],
   "source": [
    "number =87 \n",
    "\n",
    "count =0\n",
    "while number > 10:\n",
    "    number = number/3 \n",
    "    count+=1\n",
    "    \n",
    "print(count)"
   ]
  },
  {
   "cell_type": "code",
   "execution_count": 9,
   "id": "4c449c45-8609-4568-83a5-4346fadbf00f",
   "metadata": {},
   "outputs": [],
   "source": [
    "#a while loop is used while we check for a certain condition untill the condition becomes false "
   ]
  },
  {
   "cell_type": "code",
   "execution_count": 12,
   "id": "38440951-eeb7-4765-9a96-6a2d53aacbaf",
   "metadata": {},
   "outputs": [
    {
     "name": "stdout",
     "output_type": "stream",
     "text": [
      "*\n",
      "**\n",
      "***\n",
      "****\n",
      "*****\n"
     ]
    }
   ],
   "source": [
    "for i in range(0,5):\n",
    "    for j in range(0,i+1):\n",
    "        print(\"*\",end=\"\")\n",
    "    print(\"\")"
   ]
  },
  {
   "cell_type": "code",
   "execution_count": 13,
   "id": "ea0a2758-8c27-443b-bbd5-2bfd87e2cc2f",
   "metadata": {},
   "outputs": [
    {
     "name": "stdout",
     "output_type": "stream",
     "text": [
      "        *\n",
      "       ***\n",
      "      *****\n",
      "     *******\n",
      "    *********\n",
      "   ***********\n",
      "  *************\n",
      "   ***********\n",
      "    *********\n",
      "     *******\n",
      "      *****\n",
      "       ***\n",
      "        *\n"
     ]
    }
   ],
   "source": [
    "h = 7\n",
    "for x in range(h):\n",
    "    print(\" \" * (h - x), \"*\" * (2*x + 1))\n",
    "for x in range(h - 2, -1, -1):\n",
    "    print(\" \" * (h - x), \"*\" * (2*x + 1))"
   ]
  },
  {
   "cell_type": "code",
   "execution_count": 14,
   "id": "f1fd937b-bdf5-4d0b-b180-694ce49e4464",
   "metadata": {},
   "outputs": [
    {
     "name": "stdout",
     "output_type": "stream",
     "text": [
      "10\n",
      "9\n",
      "8\n",
      "7\n",
      "6\n",
      "5\n",
      "4\n",
      "3\n",
      "2\n",
      "1\n"
     ]
    }
   ],
   "source": [
    "n =10 \n",
    "\n",
    "while n>0:\n",
    "    print(n)\n",
    "    n-=1"
   ]
  },
  {
   "cell_type": "code",
   "execution_count": null,
   "id": "9aabdf42-5bcb-49a0-9b17-f5c74d6becf7",
   "metadata": {},
   "outputs": [],
   "source": []
  }
 ],
 "metadata": {
  "kernelspec": {
   "display_name": "Python 3 (ipykernel)",
   "language": "python",
   "name": "python3"
  },
  "language_info": {
   "codemirror_mode": {
    "name": "ipython",
    "version": 3
   },
   "file_extension": ".py",
   "mimetype": "text/x-python",
   "name": "python",
   "nbconvert_exporter": "python",
   "pygments_lexer": "ipython3",
   "version": "3.10.8"
  }
 },
 "nbformat": 4,
 "nbformat_minor": 5
}
