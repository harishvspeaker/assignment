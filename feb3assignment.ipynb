{
 "cells": [
  {
   "cell_type": "code",
   "execution_count": 1,
   "id": "6742bc63-0447-4ea2-aed1-1b53348d5b72",
   "metadata": {},
   "outputs": [],
   "source": [
    "# the keyword used to create a function is def "
   ]
  },
  {
   "cell_type": "code",
   "execution_count": 11,
   "id": "2b6d3656-176a-4ed9-acc8-4ad60a754577",
   "metadata": {},
   "outputs": [],
   "source": [
    "def oddnum():\n",
    "    l1=[]\n",
    "    for i in range(1,26):\n",
    "        if i%2==1:\n",
    "         l1.append(i)\n",
    "    return l1    "
   ]
  },
  {
   "cell_type": "code",
   "execution_count": 12,
   "id": "601f3cec-c70c-44f3-9832-7839dad473ee",
   "metadata": {},
   "outputs": [
    {
     "data": {
      "text/plain": [
       "[1, 3, 5, 7, 9, 11, 13, 15, 17, 19, 21, 23, 25]"
      ]
     },
     "execution_count": 12,
     "metadata": {},
     "output_type": "execute_result"
    }
   ],
   "source": [
    "oddnum()"
   ]
  },
  {
   "cell_type": "code",
   "execution_count": 13,
   "id": "61c0a289-c0ac-4941-9cd9-564ea188e248",
   "metadata": {},
   "outputs": [],
   "source": [
    "#generally in functions the no of parameters being passed through a function is pre defined , to take out this constaint *args is used \n",
    "#similary **kwargs is used to pass dictionary to a function \n"
   ]
  },
  {
   "cell_type": "code",
   "execution_count": 14,
   "id": "1131b43d-c0b1-4ad0-a72c-3717eaee8e1f",
   "metadata": {},
   "outputs": [
    {
     "data": {
      "text/plain": [
       "(1, 2, 3, 4, 5, 'harish', True, {1, 2, 3, 4})"
      ]
     },
     "execution_count": 14,
     "metadata": {},
     "output_type": "execute_result"
    }
   ],
   "source": [
    " def test1(*args):\n",
    "        return args \n",
    "    \n",
    "    \n",
    "test1(1,2,3,4,5,\"harish\",True,{1,2,3,4,})"
   ]
  },
  {
   "cell_type": "code",
   "execution_count": 21,
   "id": "6dbb891f-5de3-4a41-a83a-112c5cba6313",
   "metadata": {},
   "outputs": [
    {
     "data": {
      "text/plain": [
       "{'x': 'harish', 'b': {1, 2, 3, 5}, 'c': 879.9}"
      ]
     },
     "execution_count": 21,
     "metadata": {},
     "output_type": "execute_result"
    }
   ],
   "source": [
    " def test2(**kwargs):\n",
    "        return kwargs \n",
    "    \n",
    "    \n",
    "test2( x=\"harish\",b={1,2,3,5,},c=879.90)"
   ]
  },
  {
   "cell_type": "code",
   "execution_count": 22,
   "id": "07330f70-26bd-4629-8e61-3662fceabf4e",
   "metadata": {},
   "outputs": [],
   "source": [
    "#iterator in python is a special inbuilt function used to iterate through a given sequence of variables or datatypess="
   ]
  },
  {
   "cell_type": "code",
   "execution_count": 23,
   "id": "7fa6cc19-0a21-4e90-acc6-c5dabe35b85e",
   "metadata": {},
   "outputs": [
    {
     "name": "stdout",
     "output_type": "stream",
     "text": [
      "2\n",
      "4\n",
      "6\n",
      "8\n",
      "10\n"
     ]
    }
   ],
   "source": [
    "list1 = [2, 4, 6, 8, 10, 12, 14, 16,18, 20]\n",
    "char =iter(list1)\n",
    "\n",
    "\n",
    "for i in range(0,5):\n",
    "    print(next(char))"
   ]
  },
  {
   "cell_type": "code",
   "execution_count": 24,
   "id": "9d821bab-f4c5-463f-8f0c-67b1aad142dc",
   "metadata": {},
   "outputs": [],
   "source": [
    "#python mostly complety initializes all the elements into a datatype and then returns it which most of the time leads to bottle next \n",
    "#problem to overcome this generator function is used which returns iterator which holds the state of every elements next to it \n",
    "#yield keyword is used to return a iterator one by one \n"
   ]
  },
  {
   "cell_type": "code",
   "execution_count": 25,
   "id": "875bd1b8-7653-4261-bc90-95f12380c359",
   "metadata": {},
   "outputs": [
    {
     "data": {
      "text/plain": [
       "<generator object fib at 0x7fd8940555b0>"
      ]
     },
     "execution_count": 25,
     "metadata": {},
     "output_type": "execute_result"
    }
   ],
   "source": [
    "def fib(n):\n",
    "    a,b=0,1\n",
    "    for i in range(n):\n",
    "        yield a \n",
    "        a,b=b,a+b\n",
    "        \n",
    "fib(10)"
   ]
  },
  {
   "cell_type": "code",
   "execution_count": 26,
   "id": "3ae095ac-a474-4e8f-b029-7c55e18445b0",
   "metadata": {},
   "outputs": [
    {
     "name": "stdout",
     "output_type": "stream",
     "text": [
      "0\n",
      "1\n",
      "1\n",
      "2\n",
      "3\n",
      "5\n",
      "8\n",
      "13\n",
      "21\n",
      "34\n"
     ]
    }
   ],
   "source": [
    "for i in fib(10):\n",
    "    print(i)"
   ]
  },
  {
   "cell_type": "code",
   "execution_count": null,
   "id": "6222bb0d-6f5f-4d86-989d-357f9d61fa88",
   "metadata": {},
   "outputs": [],
   "source": [
    "for num in range(0, 1001):\n",
    "  \n",
    "   if num > 1:\n",
    "        for i in range(2, num):\n",
    "            if (num % i) == 0:\n",
    "                break\n",
    "            else:\n",
    "                print(num)"
   ]
  },
  {
   "cell_type": "code",
   "execution_count": null,
   "id": "b92c2c2a-9702-4525-bfe0-d451fca592c5",
   "metadata": {},
   "outputs": [],
   "source": []
  },
  {
   "cell_type": "code",
   "execution_count": null,
   "id": "ca1e9298-b98f-42a1-a275-8dcd5bf3892e",
   "metadata": {},
   "outputs": [],
   "source": []
  },
  {
   "cell_type": "code",
   "execution_count": null,
   "id": "37390b2b-84f0-4f03-8e56-fe345e47ebd9",
   "metadata": {},
   "outputs": [],
   "source": []
  },
  {
   "cell_type": "code",
   "execution_count": null,
   "id": "79533a9b-645d-4cb6-bf4a-fd83c296ea9c",
   "metadata": {},
   "outputs": [],
   "source": []
  }
 ],
 "metadata": {
  "kernelspec": {
   "display_name": "Python 3 (ipykernel)",
   "language": "python",
   "name": "python3"
  },
  "language_info": {
   "codemirror_mode": {
    "name": "ipython",
    "version": 3
   },
   "file_extension": ".py",
   "mimetype": "text/x-python",
   "name": "python",
   "nbconvert_exporter": "python",
   "pygments_lexer": "ipython3",
   "version": "3.10.8"
  }
 },
 "nbformat": 4,
 "nbformat_minor": 5
}
