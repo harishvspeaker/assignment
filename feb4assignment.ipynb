{
 "cells": [
  {
   "cell_type": "code",
   "execution_count": 1,
   "id": "795609fb-8c6c-4631-8e0a-7ff340e1b456",
   "metadata": {},
   "outputs": [],
   "source": [
    "l1= [('Sachin Tendulkar', 34357), ('Ricky Ponting', 27483), ('Jack Kallis', 25534), ('Virat Kohli', 24936)]"
   ]
  },
  {
   "cell_type": "code",
   "execution_count": 11,
   "id": "d4fcbc40-f51e-4c50-ab71-c1e6e8c57147",
   "metadata": {},
   "outputs": [],
   "source": [
    "list2 =(l1 ,  lambda x :x[1])"
   ]
  },
  {
   "cell_type": "code",
   "execution_count": 12,
   "id": "eb0166fb-a33b-4915-8268-d51e726c5fc5",
   "metadata": {},
   "outputs": [
    {
     "data": {
      "text/plain": [
       "([('Jack Kallis', 25534),\n",
       "  ('Ricky Ponting', 27483),\n",
       "  ('Sachin Tendulkar', 34357),\n",
       "  ('Virat Kohli', 24936)],\n",
       " <function __main__.<lambda>(x)>)"
      ]
     },
     "execution_count": 12,
     "metadata": {},
     "output_type": "execute_result"
    }
   ],
   "source": [
    "list2"
   ]
  },
  {
   "cell_type": "code",
   "execution_count": 14,
   "id": "9ae68a9b-6310-4094-8f4d-6b2ad5e4099f",
   "metadata": {},
   "outputs": [],
   "source": [
    "l2=[1, 2, 3, 4, 5, 6, 7, 8, 9, 10]\n",
    "\n",
    "l3=list(map(lambda x : x**2 ,l2))\n"
   ]
  },
  {
   "cell_type": "code",
   "execution_count": 15,
   "id": "b5746e03-23e4-489e-9e9f-6c59331a95c0",
   "metadata": {},
   "outputs": [
    {
     "data": {
      "text/plain": [
       "[1, 4, 9, 16, 25, 36, 49, 64, 81, 100]"
      ]
     },
     "execution_count": 15,
     "metadata": {},
     "output_type": "execute_result"
    }
   ],
   "source": [
    "l3"
   ]
  },
  {
   "cell_type": "code",
   "execution_count": 17,
   "id": "fa8d5f2a-2f72-4af1-9c32-4cb52ddbd895",
   "metadata": {},
   "outputs": [],
   "source": [
    "l4=[1, 2, 3, 4, 5, 6, 7, 8, 9, 10]\n",
    "l5=tuple(map(lambda x : str( x) ,l4))"
   ]
  },
  {
   "cell_type": "code",
   "execution_count": 18,
   "id": "57703567-1a35-4930-9d03-147fb3cb306c",
   "metadata": {},
   "outputs": [
    {
     "data": {
      "text/plain": [
       "('1', '2', '3', '4', '5', '6', '7', '8', '9', '10')"
      ]
     },
     "execution_count": 18,
     "metadata": {},
     "output_type": "execute_result"
    }
   ],
   "source": [
    "l5"
   ]
  },
  {
   "cell_type": "code",
   "execution_count": 23,
   "id": "a0b73032-58a4-4df9-82b5-366cf2c47b34",
   "metadata": {},
   "outputs": [],
   "source": [
    "from functools import reduce \n",
    "l6=[  i for i in range(1,25)]\n",
    "ans = reduce(lambda x,y:x*y,l6)"
   ]
  },
  {
   "cell_type": "code",
   "execution_count": 24,
   "id": "ad0b74b3-63c3-440a-8678-7ee8b2a63d11",
   "metadata": {},
   "outputs": [
    {
     "data": {
      "text/plain": [
       "620448401733239439360000"
      ]
     },
     "execution_count": 24,
     "metadata": {},
     "output_type": "execute_result"
    }
   ],
   "source": [
    "ans\n"
   ]
  },
  {
   "cell_type": "code",
   "execution_count": 29,
   "id": "9db7192a-3188-4cbc-9c24-d8ed5295d5bb",
   "metadata": {},
   "outputs": [],
   "source": [
    "l8=[2, 3, 6, 9, 27, 60, 90, 120, 55, 46]\n",
    "ans =list(filter(lambda x :  x%2==0 and x%3==0,l8))"
   ]
  },
  {
   "cell_type": "code",
   "execution_count": 30,
   "id": "601c3a92-30da-4770-96c0-b0cf17d713f3",
   "metadata": {},
   "outputs": [
    {
     "data": {
      "text/plain": [
       "[6, 60, 90, 120]"
      ]
     },
     "execution_count": 30,
     "metadata": {},
     "output_type": "execute_result"
    }
   ],
   "source": [
    "ans"
   ]
  },
  {
   "cell_type": "code",
   "execution_count": 32,
   "id": "6bad1512-a88d-43c0-b9dc-64aaeb8b96a0",
   "metadata": {},
   "outputs": [
    {
     "data": {
      "text/plain": [
       "['php', 'aba', 'radar', 'level']"
      ]
     },
     "execution_count": 32,
     "metadata": {},
     "output_type": "execute_result"
    }
   ],
   "source": [
    "l10=['python', 'php', 'aba', 'radar', 'level']\n",
    "\n",
    "list(filter(lambda x : (x==\"\".join(reversed(x))),l10))\n"
   ]
  },
  {
   "cell_type": "code",
   "execution_count": null,
   "id": "70782a2a-5714-417f-9bb6-9afabfffab9a",
   "metadata": {},
   "outputs": [],
   "source": []
  }
 ],
 "metadata": {
  "kernelspec": {
   "display_name": "Python 3 (ipykernel)",
   "language": "python",
   "name": "python3"
  },
  "language_info": {
   "codemirror_mode": {
    "name": "ipython",
    "version": 3
   },
   "file_extension": ".py",
   "mimetype": "text/x-python",
   "name": "python",
   "nbconvert_exporter": "python",
   "pygments_lexer": "ipython3",
   "version": "3.10.8"
  }
 },
 "nbformat": 4,
 "nbformat_minor": 5
}
