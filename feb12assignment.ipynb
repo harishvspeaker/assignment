{
 "cells": [
  {
   "cell_type": "code",
   "execution_count": 1,
   "id": "0b64451c-187d-48e1-b2e9-8fbe55484b3e",
   "metadata": {},
   "outputs": [],
   "source": [
    "# exception in python is were there is no syntactical error but there is a error in logic which will end up stopping teh execution of the whole \n",
    "# block below it , exception is were in the syntax of python is followed but there is an error in logiv \n",
    "# a syntax error is an error where the formal syntax of the code itself is wrong "
   ]
  },
  {
   "cell_type": "code",
   "execution_count": 2,
   "id": "f32251e0-7b1f-4642-a189-09c6941e16d1",
   "metadata": {},
   "outputs": [],
   "source": [
    "# when an exception is not handled the entire execution of a code is stopped even though there are no errors in the upcoming blocks of code \n"
   ]
  },
  {
   "cell_type": "code",
   "execution_count": 4,
   "id": "27c0d1cc-6b3c-40cb-99b9-bba286ce91ea",
   "metadata": {},
   "outputs": [
    {
     "ename": "NameError",
     "evalue": "name 'false' is not defined",
     "output_type": "error",
     "traceback": [
      "\u001b[0;31m---------------------------------------------------------------------------\u001b[0m",
      "\u001b[0;31mNameError\u001b[0m                                 Traceback (most recent call last)",
      "Cell \u001b[0;32mIn[4], line 1\u001b[0m\n\u001b[0;32m----> 1\u001b[0m \u001b[38;5;28;01mTrue\u001b[39;00m\u001b[38;5;241m/\u001b[39m\u001b[43mfalse\u001b[49m \n",
      "\u001b[0;31mNameError\u001b[0m: name 'false' is not defined"
     ]
    }
   ],
   "source": [
    "True/false \n",
    "#exception is not handled \n"
   ]
  },
  {
   "cell_type": "code",
   "execution_count": 6,
   "id": "c8313dd3-ffc4-43df-a8e9-9dc459b6f96d",
   "metadata": {},
   "outputs": [
    {
     "name": "stdout",
     "output_type": "stream",
     "text": [
      "this is an exception of type division by zero\n"
     ]
    }
   ],
   "source": [
    "#exception handled \n",
    "#try is used to catch an exception and except is used to handle it \n",
    "try :\n",
    "    True/False \n",
    "    \n",
    "except Exception as e :\n",
    "    print(\"this is an exception of type {}\".format(e))"
   ]
  },
  {
   "cell_type": "code",
   "execution_count": 7,
   "id": "d39a091a-fb2b-44d8-8334-03b90a9f547a",
   "metadata": {},
   "outputs": [
    {
     "name": "stdout",
     "output_type": "stream",
     "text": [
      "no error in try \n",
      "prints only when no eror in try is caught \n"
     ]
    }
   ],
   "source": [
    "#try and else are used in exception handling the else method is executed only when the try block return no exception \n",
    "\n",
    "\n",
    "try:\n",
    "    sum =9202+783\n",
    "    print(\"no error in try \")\n",
    "except Exception as e :\n",
    "    print(\"this is an exception message \")\n",
    "else:\n",
    "    print(\"prints only when no eror in try is caught \")"
   ]
  },
  {
   "cell_type": "code",
   "execution_count": 8,
   "id": "bdf1ccb2-bec5-4796-b8de-4eace1e1b0f7",
   "metadata": {},
   "outputs": [
    {
     "name": "stdout",
     "output_type": "stream",
     "text": [
      "this is an exception message \n"
     ]
    }
   ],
   "source": [
    "#try and else are used in exception handling the else method is executed only when the try block return no exception \n",
    "\n",
    "\n",
    "try:\n",
    "    sum =sum/0\n",
    "    print(\"no error in try \")\n",
    "except Exception as e :\n",
    "    print(\"this is an exception message \")\n",
    "else:\n",
    "    print(\"prints only when no eror in try is caught \")"
   ]
  },
  {
   "cell_type": "code",
   "execution_count": 9,
   "id": "19b55859-03e7-4edd-89f3-80324e2a2826",
   "metadata": {},
   "outputs": [
    {
     "name": "stdout",
     "output_type": "stream",
     "text": [
      "there is no error \n",
      "this will print irrespective of the exception \n"
     ]
    }
   ],
   "source": [
    "#methods or objects defined inside of a finally block is executed irrespective of what happens with the exeption \n",
    "try:\n",
    "    print(\"there is no error \")\n",
    "except Exception as e:\n",
    "    print(\"this wont print \")\n",
    "    \n",
    "finally:\n",
    "    print(\"this will print irrespective of the exception \")"
   ]
  },
  {
   "cell_type": "code",
   "execution_count": 11,
   "id": "fb177fda-26f4-4860-adfd-9bd22a07c5ce",
   "metadata": {},
   "outputs": [
    {
     "name": "stdout",
     "output_type": "stream",
     "text": [
      "this wont print \n",
      "this will print irrespective of the exception \n"
     ]
    }
   ],
   "source": [
    "try:\n",
    "    True/False\n",
    "except Exception as e:\n",
    "    print(\"this wont print \")\n",
    "    \n",
    "finally:\n",
    "    print(\"this will print irrespective of the exception \")"
   ]
  },
  {
   "cell_type": "code",
   "execution_count": 17,
   "id": "643a9d90-1fd5-4bdb-8c0a-981e4dbbf808",
   "metadata": {},
   "outputs": [
    {
     "name": "stdin",
     "output_type": "stream",
     "text": [
      "enter your age  -98\n"
     ]
    },
    {
     "ename": "TypeError",
     "evalue": "age cant be in negative",
     "output_type": "error",
     "traceback": [
      "\u001b[0;31m---------------------------------------------------------------------------\u001b[0m",
      "\u001b[0;31mTypeError\u001b[0m                                 Traceback (most recent call last)",
      "Cell \u001b[0;32mIn[17], line 6\u001b[0m\n\u001b[1;32m      3\u001b[0m age \u001b[38;5;241m=\u001b[39m\u001b[38;5;28mint\u001b[39m (\u001b[38;5;28minput\u001b[39m(\u001b[38;5;124m\"\u001b[39m\u001b[38;5;124menter your age \u001b[39m\u001b[38;5;124m\"\u001b[39m))\n\u001b[1;32m      5\u001b[0m \u001b[38;5;28;01mif\u001b[39;00m age \u001b[38;5;241m<\u001b[39m\u001b[38;5;241m0\u001b[39m:\n\u001b[0;32m----> 6\u001b[0m        \u001b[38;5;28;01mraise\u001b[39;00m \u001b[38;5;167;01mTypeError\u001b[39;00m(\u001b[38;5;124m\"\u001b[39m\u001b[38;5;124mage cant be in negative\u001b[39m\u001b[38;5;124m\"\u001b[39m)\n",
      "\u001b[0;31mTypeError\u001b[0m: age cant be in negative"
     ]
    }
   ],
   "source": [
    "#raise is a keyword in python to create custom hooks \n",
    "\n",
    "age =int (input(\"enter your age \"))\n",
    "\n",
    "if age <0:\n",
    "       raise TypeError(\"age cant be in negative\")\n",
    "        \n",
    "    "
   ]
  },
  {
   "cell_type": "code",
   "execution_count": 18,
   "id": "160eb56f-c8e1-40ab-9e02-767160011258",
   "metadata": {},
   "outputs": [
    {
     "name": "stdin",
     "output_type": "stream",
     "text": [
      "enter your age  -87\n"
     ]
    },
    {
     "ename": "TypeError",
     "evalue": "age cant be in negative",
     "output_type": "error",
     "traceback": [
      "\u001b[0;31m---------------------------------------------------------------------------\u001b[0m",
      "\u001b[0;31mTypeError\u001b[0m                                 Traceback (most recent call last)",
      "Cell \u001b[0;32mIn[18], line 5\u001b[0m\n\u001b[1;32m      2\u001b[0m age \u001b[38;5;241m=\u001b[39m\u001b[38;5;28mint\u001b[39m (\u001b[38;5;28minput\u001b[39m(\u001b[38;5;124m\"\u001b[39m\u001b[38;5;124menter your age \u001b[39m\u001b[38;5;124m\"\u001b[39m))\n\u001b[1;32m      4\u001b[0m \u001b[38;5;28;01mif\u001b[39;00m age \u001b[38;5;241m<\u001b[39m\u001b[38;5;241m0\u001b[39m:\n\u001b[0;32m----> 5\u001b[0m        \u001b[38;5;28;01mraise\u001b[39;00m \u001b[38;5;167;01mTypeError\u001b[39;00m(\u001b[38;5;124m\"\u001b[39m\u001b[38;5;124mage cant be in negative\u001b[39m\u001b[38;5;124m\"\u001b[39m)\n",
      "\u001b[0;31mTypeError\u001b[0m: age cant be in negative"
     ]
    }
   ],
   "source": [
    "#custom exception in python are used to create user based exception for error handling \n",
    "age =int (input(\"enter your age \"))\n",
    "\n",
    "if age <0:\n",
    "       raise TypeError(\"age cant be in negative\")\n",
    "        \n",
    "\n"
   ]
  },
  {
   "cell_type": "code",
   "execution_count": 19,
   "id": "a3ec67f8-6aaf-4909-9bf9-2dcf3d940662",
   "metadata": {},
   "outputs": [
    {
     "name": "stdout",
     "output_type": "stream",
     "text": [
      "A New Exception occurred:  6\n"
     ]
    }
   ],
   "source": [
    "class MyError(Exception):\n",
    " \n",
    "   \n",
    "    def __init__(self, value):\n",
    "        self.value = value\n",
    " \n",
    "   \n",
    "    def __str__(self):\n",
    "        return(repr(self.value))\n",
    " \n",
    " \n",
    "try:\n",
    "    raise(MyError(3*2))\n",
    " \n",
    "\n",
    "except MyError as error:\n",
    "    print('A New Exception occurred: ', error.value)"
   ]
  },
  {
   "cell_type": "code",
   "execution_count": null,
   "id": "ebf3be4d-fd05-4eb8-b5de-f9c2d3c9dac6",
   "metadata": {},
   "outputs": [],
   "source": []
  }
 ],
 "metadata": {
  "kernelspec": {
   "display_name": "Python 3 (ipykernel)",
   "language": "python",
   "name": "python3"
  },
  "language_info": {
   "codemirror_mode": {
    "name": "ipython",
    "version": 3
   },
   "file_extension": ".py",
   "mimetype": "text/x-python",
   "name": "python",
   "nbconvert_exporter": "python",
   "pygments_lexer": "ipython3",
   "version": "3.10.8"
  }
 },
 "nbformat": 4,
 "nbformat_minor": 5
}
